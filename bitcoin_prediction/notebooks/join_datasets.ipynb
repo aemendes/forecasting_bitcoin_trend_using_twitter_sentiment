{
 "cells": [
  {
   "cell_type": "code",
   "execution_count": 32,
   "id": "2f0af095-4a69-444c-8325-03176ae8e94b",
   "metadata": {},
   "outputs": [],
   "source": [
    "import glob\n",
    "import time\n",
    "import pandas as pd\n",
    "from tqdm import tqdm\n",
    "\n",
    "files = glob.glob('../../bitcoin_prediction/data/*/*/*/data.csv', recursive=True)\n",
    "filter_files = [\n",
    "    'year_2021/month_4',\n",
    "    'year_2021/month_5',\n",
    "    'year_2021/month_6',\n",
    "]\n",
    "\n",
    "files = [x for x in files if\n",
    "               all(y not in x for y in filter_files)]\n",
    "\n",
    "btc_file = glob.glob('../../bitcoin_prediction/data/BTC-USD.csv', recursive=True)[0]\n",
    "btc_dataset = pd.read_csv(btc_file, lineterminator='\\n').drop(columns=[\"High\", \"Low\", \"Close\", \"Adj Close\"], axis=1)\n"
   ]
  },
  {
   "cell_type": "code",
   "execution_count": 34,
   "id": "dde80383-1e07-462e-9447-ce702d6bfcf1",
   "metadata": {},
   "outputs": [
    {
     "name": "stderr",
     "output_type": "stream",
     "text": [
      "100%|█████████████████████████████████████████| 243/243 [01:11<00:00,  3.40it/s]\n"
     ]
    }
   ],
   "source": [
    "historical_sentiment = pd.DataFrame(columns=[\"Date\", \"Negative\", \"Neutral\", \"Positive\"])\n",
    "\n",
    "for file in tqdm(files):\n",
    "    dataset = pd.read_csv(file, lineterminator='\\n').drop(columns=[\"text\", \"id\"], axis=1)\n",
    "\n",
    "    dataset[\"created_at\"] = pd.to_datetime(dataset[\"created_at\"])\n",
    "    dataset[\"created_at\"] = dataset[\"created_at\"].dt.strftime('%Y-%m-%d')\n",
    "\n",
    "    dataset[\"sentiment_count\"] = dataset.groupby(\"Sentiment\")[\"Sentiment\"].transform('count')\n",
    "\n",
    "    dataset = dataset.drop_duplicates(subset=\"Sentiment\", keep=\"last\")\n",
    "\n",
    "    dataset = dataset.pivot('created_at', 'Sentiment').stack(0).reset_index()\n",
    "    dataset = dataset.rename_axis(None, axis=1).reset_index(drop=True)\n",
    "\n",
    "    dataset = dataset.drop(columns=[\"level_1\"], axis=0).rename(columns={ 'created_at': 'Date', 0: \"Negative\", 1: \"Neutral\", 2: \"Positive\" })\n",
    "\n",
    "    final_dataset = pd.concat([final_dataset, dataset], axis=0)\n",
    "\n",
    "historical_sentiment = final_dataset.sort_values(by='Date')\n",
    "\n",
    "merged_datasets = pd.merge(final_dataset, btc_dataset, how=\"outer\", on=\"Date\").sort_values(by='Date').drop_duplicates(subset=\"Date\", keep=\"last\")\n",
    "\n",
    "merged_datasets.to_csv('../../bitcoin_prediction/data/historical_btc_sentiment.csv', index=False)"
   ]
  },
  {
   "cell_type": "code",
   "execution_count": null,
   "id": "948a9443-0a91-4de4-a634-d4631fda6621",
   "metadata": {},
   "outputs": [],
   "source": []
  }
 ],
 "metadata": {
  "kernelspec": {
   "display_name": "tf_gpu",
   "language": "python",
   "name": "tf_gpu"
  },
  "language_info": {
   "codemirror_mode": {
    "name": "ipython",
    "version": 3
   },
   "file_extension": ".py",
   "mimetype": "text/x-python",
   "name": "python",
   "nbconvert_exporter": "python",
   "pygments_lexer": "ipython3",
   "version": "3.9.12"
  }
 },
 "nbformat": 4,
 "nbformat_minor": 5
}
