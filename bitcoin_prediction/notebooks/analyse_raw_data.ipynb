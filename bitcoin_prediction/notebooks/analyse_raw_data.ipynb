{
 "cells": [
  {
   "cell_type": "code",
   "execution_count": 1,
   "id": "c2ca7b9d-3a2e-4f2d-847a-bc7f601afd8e",
   "metadata": {},
   "outputs": [],
   "source": [
    "import pandas as pd"
   ]
  },
  {
   "cell_type": "code",
   "execution_count": 9,
   "id": "4aab0f9e-9984-42b8-85fb-ac35c83cb720",
   "metadata": {},
   "outputs": [
    {
     "name": "stdout",
     "output_type": "stream",
     "text": [
      "0         21m Btc will be more scarce than real estate\n",
      "1    $bat holder already full                      ...\n",
      "2    📢Win 15 HIVE &gt;&gt; The Weekly Challenge &gt...\n",
      "3    So much #FOMO #Bitcoin #BTC #Uptober https://t...\n",
      "4    24-Hour Crypto Market Activity via #LunarCrush...\n",
      "Name: text, dtype: object\n"
     ]
    }
   ],
   "source": [
    "dataset = pd.read_csv(\"../data/year_2021/month_11/day_01/data.csv\")\n",
    "        \n",
    "print(dataset.head(5)[\"text\"])"
   ]
  },
  {
   "cell_type": "code",
   "execution_count": null,
   "id": "7b36bb00-dc74-49d1-8b7f-f34921b6e2c8",
   "metadata": {},
   "outputs": [],
   "source": []
  }
 ],
 "metadata": {
  "kernelspec": {
   "display_name": "tf_gpu",
   "language": "python",
   "name": "tf_gpu"
  },
  "language_info": {
   "codemirror_mode": {
    "name": "ipython",
    "version": 3
   },
   "file_extension": ".py",
   "mimetype": "text/x-python",
   "name": "python",
   "nbconvert_exporter": "python",
   "pygments_lexer": "ipython3",
   "version": "3.9.12"
  }
 },
 "nbformat": 4,
 "nbformat_minor": 5
}
