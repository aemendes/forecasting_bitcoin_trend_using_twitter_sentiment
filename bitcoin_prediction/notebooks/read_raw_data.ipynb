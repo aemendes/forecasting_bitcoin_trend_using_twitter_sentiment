{
 "cells": [
  {
   "cell_type": "code",
   "execution_count": 1,
   "id": "c2ca7b9d-3a2e-4f2d-847a-bc7f601afd8e",
   "metadata": {},
   "outputs": [],
   "source": [
    "import pandas as pd"
   ]
  },
  {
   "cell_type": "code",
   "execution_count": 3,
   "id": "4aab0f9e-9984-42b8-85fb-ac35c83cb720",
   "metadata": {},
   "outputs": [
    {
     "name": "stdout",
     "output_type": "stream",
     "text": [
      "                                                text            id  \\\n",
      "0       21m Btc will be more scarce than real estate  1.455157e+18   \n",
      "1  $bat holder already full                      ...  1.455157e+18   \n",
      "2  📢Win 15 HIVE &gt;&gt; The Weekly Challenge &gt...  1.455157e+18   \n",
      "3  So much #FOMO #Bitcoin #BTC #Uptober https://t...  1.455157e+18   \n",
      "4  24-Hour Crypto Market Activity via #LunarCrush...  1.455157e+18   \n",
      "\n",
      "                 created_at  Sentiment  \n",
      "0  2021-11-01T12:58:59.000Z        1.0  \n",
      "1  2021-11-01T12:58:59.000Z        1.0  \n",
      "2  2021-11-01T12:58:57.000Z        2.0  \n",
      "3  2021-11-01T12:58:56.000Z        0.0  \n",
      "4  2021-11-01T12:58:56.000Z        2.0  \n"
     ]
    }
   ],
   "source": [
    "dataset = pd.read_csv(\"../data/year_2021/month_11/day_01/data.csv\")\n",
    "\n",
    "print(dataset.head(5))"
   ]
  },
  {
   "cell_type": "code",
   "execution_count": null,
   "id": "7b36bb00-dc74-49d1-8b7f-f34921b6e2c8",
   "metadata": {},
   "outputs": [],
   "source": []
  },
  {
   "cell_type": "code",
   "execution_count": null,
   "id": "bcaec600-c093-44b3-8c51-a43ed97ae991",
   "metadata": {},
   "outputs": [],
   "source": []
  }
 ],
 "metadata": {
  "kernelspec": {
   "display_name": "tf_gpu",
   "language": "python",
   "name": "tf_gpu"
  },
  "language_info": {
   "codemirror_mode": {
    "name": "ipython",
    "version": 3
   },
   "file_extension": ".py",
   "mimetype": "text/x-python",
   "name": "python",
   "nbconvert_exporter": "python",
   "pygments_lexer": "ipython3",
   "version": "3.9.12"
  }
 },
 "nbformat": 4,
 "nbformat_minor": 5
}
