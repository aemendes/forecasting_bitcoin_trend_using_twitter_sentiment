{
 "cells": [
  {
   "cell_type": "code",
   "execution_count": 1,
   "id": "a76dc208-b125-430b-9f0c-fc2c70aab524",
   "metadata": {},
   "outputs": [
    {
     "name": "stderr",
     "output_type": "stream",
     "text": [
      "2022-05-28 19:20:32.635277: I tensorflow/stream_executor/platform/default/dso_loader.cc:49] Successfully opened dynamic library libcudart.so.10.1\n"
     ]
    }
   ],
   "source": [
    "import pandas as pd\n",
    "import numpy as np\n",
    "import tensorflow as tf\n",
    "import keras\n",
    "\n",
    "import warnings\n",
    "warnings.filterwarnings(\"ignore\")"
   ]
  },
  {
   "cell_type": "code",
   "execution_count": 2,
   "id": "e46bd23b-f26c-4107-8353-1f208fff285e",
   "metadata": {},
   "outputs": [
    {
     "name": "stdout",
     "output_type": "stream",
     "text": [
      "         Date  Negative  Neutral  Positive          Open        Volume  trend\n",
      "0  2021-07-01    9336.0  21644.0   19892.0  35035.984375  3.783896e+10     -1\n",
      "1  2021-07-02    9682.0  23126.0   17333.0  33549.601563  3.872897e+10     -1\n",
      "2  2021-07-03   10251.0  22728.0   17377.0  33854.421875  2.438396e+10      0\n",
      "3  2021-07-04    6030.0  14091.0    9365.0  34665.566406  2.492431e+10      1\n",
      "4  2021-07-05   10562.0  23450.0   17474.0  35284.343750  2.672155e+10      0\n"
     ]
    }
   ],
   "source": [
    "dataset = pd.read_csv(\"../data/historical_btc_trend_dataset.csv\")\n",
    "\n",
    "print(dataset.head(5))"
   ]
  },
  {
   "cell_type": "markdown",
   "id": "98beb8b2-75eb-42e1-80e7-662050196d08",
   "metadata": {},
   "source": [
    "# Data Preparation\n",
    "- Data cleaning, remove missing data points\n",
    "- Remove unnecessary columns\n",
    "- Convert current timewindow to be relevant\n",
    "- Sort data in ascending order based on date"
   ]
  },
  {
   "cell_type": "code",
   "execution_count": 3,
   "id": "3ee94d57-0aa1-4e2c-9a2d-60a3d9de70d6",
   "metadata": {},
   "outputs": [],
   "source": [
    "dataset = dataset.dropna(axis=0, thresh=7)"
   ]
  },
  {
   "cell_type": "markdown",
   "id": "4954a72b-bdd3-4a73-8cb0-6eb8d3ba4a69",
   "metadata": {},
   "source": [
    "# Data Split"
   ]
  },
  {
   "cell_type": "code",
   "execution_count": 4,
   "id": "1a342902-51db-4ccd-82b3-08a537ad931b",
   "metadata": {},
   "outputs": [],
   "source": [
    "from sklearn.model_selection import train_test_split\n",
    "\n",
    "x_train, x_test, y_train, y_test = train_test_split(\n",
    "    dataset.drop(columns=[\"Date\", \"trend\"], axis=1), \n",
    "    dataset.drop(columns=[\"Date\", \"Negative\", \"Neutral\", \"Positive\", \"Open\", \"Volume\"], axis=1),\n",
    "    test_size=0.20,\n",
    "    shuffle=False)"
   ]
  },
  {
   "cell_type": "code",
   "execution_count": 5,
   "id": "fb2755c5-087f-4f89-a482-8182f0e7f246",
   "metadata": {},
   "outputs": [
    {
     "data": {
      "text/html": [
       "<div>\n",
       "<style scoped>\n",
       "    .dataframe tbody tr th:only-of-type {\n",
       "        vertical-align: middle;\n",
       "    }\n",
       "\n",
       "    .dataframe tbody tr th {\n",
       "        vertical-align: top;\n",
       "    }\n",
       "\n",
       "    .dataframe thead th {\n",
       "        text-align: right;\n",
       "    }\n",
       "</style>\n",
       "<table border=\"1\" class=\"dataframe\">\n",
       "  <thead>\n",
       "    <tr style=\"text-align: right;\">\n",
       "      <th></th>\n",
       "      <th>Negative</th>\n",
       "      <th>Neutral</th>\n",
       "      <th>Positive</th>\n",
       "      <th>Open</th>\n",
       "      <th>Volume</th>\n",
       "    </tr>\n",
       "  </thead>\n",
       "  <tbody>\n",
       "    <tr>\n",
       "      <th>0</th>\n",
       "      <td>9336.0</td>\n",
       "      <td>21644.0</td>\n",
       "      <td>19892.0</td>\n",
       "      <td>35035.984375</td>\n",
       "      <td>3.783896e+10</td>\n",
       "    </tr>\n",
       "    <tr>\n",
       "      <th>1</th>\n",
       "      <td>9682.0</td>\n",
       "      <td>23126.0</td>\n",
       "      <td>17333.0</td>\n",
       "      <td>33549.601563</td>\n",
       "      <td>3.872897e+10</td>\n",
       "    </tr>\n",
       "    <tr>\n",
       "      <th>2</th>\n",
       "      <td>10251.0</td>\n",
       "      <td>22728.0</td>\n",
       "      <td>17377.0</td>\n",
       "      <td>33854.421875</td>\n",
       "      <td>2.438396e+10</td>\n",
       "    </tr>\n",
       "    <tr>\n",
       "      <th>3</th>\n",
       "      <td>6030.0</td>\n",
       "      <td>14091.0</td>\n",
       "      <td>9365.0</td>\n",
       "      <td>34665.566406</td>\n",
       "      <td>2.492431e+10</td>\n",
       "    </tr>\n",
       "    <tr>\n",
       "      <th>4</th>\n",
       "      <td>10562.0</td>\n",
       "      <td>23450.0</td>\n",
       "      <td>17474.0</td>\n",
       "      <td>35284.343750</td>\n",
       "      <td>2.672155e+10</td>\n",
       "    </tr>\n",
       "    <tr>\n",
       "      <th>...</th>\n",
       "      <td>...</td>\n",
       "      <td>...</td>\n",
       "      <td>...</td>\n",
       "      <td>...</td>\n",
       "      <td>...</td>\n",
       "    </tr>\n",
       "    <tr>\n",
       "      <th>181</th>\n",
       "      <td>13566.0</td>\n",
       "      <td>28809.0</td>\n",
       "      <td>16372.0</td>\n",
       "      <td>47623.871094</td>\n",
       "      <td>3.004923e+10</td>\n",
       "    </tr>\n",
       "    <tr>\n",
       "      <th>182</th>\n",
       "      <td>12595.0</td>\n",
       "      <td>27462.0</td>\n",
       "      <td>16250.0</td>\n",
       "      <td>46490.605469</td>\n",
       "      <td>2.668649e+10</td>\n",
       "    </tr>\n",
       "    <tr>\n",
       "      <th>183</th>\n",
       "      <td>11858.0</td>\n",
       "      <td>27096.0</td>\n",
       "      <td>16921.0</td>\n",
       "      <td>47169.371094</td>\n",
       "      <td>3.697417e+10</td>\n",
       "    </tr>\n",
       "    <tr>\n",
       "      <th>184</th>\n",
       "      <td>4895.0</td>\n",
       "      <td>33270.0</td>\n",
       "      <td>17838.0</td>\n",
       "      <td>46311.746094</td>\n",
       "      <td>2.458267e+10</td>\n",
       "    </tr>\n",
       "    <tr>\n",
       "      <th>185</th>\n",
       "      <td>4631.0</td>\n",
       "      <td>34438.0</td>\n",
       "      <td>15070.0</td>\n",
       "      <td>47680.925781</td>\n",
       "      <td>2.795157e+10</td>\n",
       "    </tr>\n",
       "  </tbody>\n",
       "</table>\n",
       "<p>186 rows × 5 columns</p>\n",
       "</div>"
      ],
      "text/plain": [
       "     Negative  Neutral  Positive          Open        Volume\n",
       "0      9336.0  21644.0   19892.0  35035.984375  3.783896e+10\n",
       "1      9682.0  23126.0   17333.0  33549.601563  3.872897e+10\n",
       "2     10251.0  22728.0   17377.0  33854.421875  2.438396e+10\n",
       "3      6030.0  14091.0    9365.0  34665.566406  2.492431e+10\n",
       "4     10562.0  23450.0   17474.0  35284.343750  2.672155e+10\n",
       "..        ...      ...       ...           ...           ...\n",
       "181   13566.0  28809.0   16372.0  47623.871094  3.004923e+10\n",
       "182   12595.0  27462.0   16250.0  46490.605469  2.668649e+10\n",
       "183   11858.0  27096.0   16921.0  47169.371094  3.697417e+10\n",
       "184    4895.0  33270.0   17838.0  46311.746094  2.458267e+10\n",
       "185    4631.0  34438.0   15070.0  47680.925781  2.795157e+10\n",
       "\n",
       "[186 rows x 5 columns]"
      ]
     },
     "execution_count": 5,
     "metadata": {},
     "output_type": "execute_result"
    }
   ],
   "source": [
    "x_train"
   ]
  },
  {
   "cell_type": "markdown",
   "id": "497d3223-a6be-4832-ae32-c52ea2decf20",
   "metadata": {},
   "source": [
    "# Normalization"
   ]
  },
  {
   "cell_type": "code",
   "execution_count": 6,
   "id": "0580c2c6-8d16-4d12-bf12-a240444ad180",
   "metadata": {},
   "outputs": [],
   "source": [
    "from sklearn.preprocessing import MinMaxScaler\n",
    "\n",
    "scaler = MinMaxScaler()\n",
    "\n",
    "x_train = scaler.fit_transform(x_train)\n",
    "x_test = scaler.fit_transform(x_test)\n",
    "y_train = scaler.fit_transform(y_train)\n",
    "y_test = scaler.fit_transform(y_test)"
   ]
  },
  {
   "cell_type": "code",
   "execution_count": 7,
   "id": "934c85b5-d377-4e79-a4b7-ba945ef22980",
   "metadata": {},
   "outputs": [],
   "source": [
    "x_train= np.reshape(x_train,(x_train.shape[0], 1, x_train.shape[1]))\n",
    "x_test= np.reshape(x_test,(x_test.shape[0], 1, x_test.shape[1]))\n",
    "y_train= np.reshape(y_train,(y_train.shape[0], 1, y_train.shape[1]))\n",
    "y_test= np.reshape(y_test,(y_test.shape[0], 1, y_test.shape[1]))"
   ]
  },
  {
   "cell_type": "code",
   "execution_count": 8,
   "id": "3a714bb4-e5ce-4e6e-9137-b2b2dcc6420d",
   "metadata": {},
   "outputs": [
    {
     "data": {
      "text/plain": [
       "(186, 1, 1)"
      ]
     },
     "execution_count": 8,
     "metadata": {},
     "output_type": "execute_result"
    }
   ],
   "source": [
    "y_train.shape"
   ]
  },
  {
   "cell_type": "markdown",
   "id": "71744901-ad20-4429-b6e5-3b8d1622d986",
   "metadata": {},
   "source": [
    "# LSTM Neural Network"
   ]
  },
  {
   "cell_type": "code",
   "execution_count": 9,
   "id": "612935bd-dca5-4ba7-94ce-7dbeaf95fb16",
   "metadata": {},
   "outputs": [
    {
     "name": "stdout",
     "output_type": "stream",
     "text": [
      "WARNING:tensorflow:Layer lstm will not use cuDNN kernel since it doesn't meet the cuDNN kernel criteria. It will use generic GPU kernel as fallback when running on GPU\n"
     ]
    },
    {
     "name": "stderr",
     "output_type": "stream",
     "text": [
      "2022-05-28 19:20:33.602339: I tensorflow/compiler/jit/xla_cpu_device.cc:41] Not creating XLA devices, tf_xla_enable_xla_devices not set\n",
      "2022-05-28 19:20:33.603074: I tensorflow/stream_executor/platform/default/dso_loader.cc:49] Successfully opened dynamic library libcuda.so.1\n",
      "2022-05-28 19:20:33.641275: I tensorflow/stream_executor/cuda/cuda_gpu_executor.cc:941] successful NUMA node read from SysFS had negative value (-1), but there must be at least one NUMA node, so returning NUMA node zero\n",
      "2022-05-28 19:20:33.641391: I tensorflow/core/common_runtime/gpu/gpu_device.cc:1720] Found device 0 with properties: \n",
      "pciBusID: 0000:01:00.0 name: NVIDIA GeForce RTX 3080 Ti computeCapability: 8.6\n",
      "coreClock: 1.71GHz coreCount: 80 deviceMemorySize: 11.77GiB deviceMemoryBandwidth: 849.46GiB/s\n",
      "2022-05-28 19:20:33.641409: I tensorflow/stream_executor/platform/default/dso_loader.cc:49] Successfully opened dynamic library libcudart.so.10.1\n",
      "2022-05-28 19:20:33.642579: I tensorflow/stream_executor/platform/default/dso_loader.cc:49] Successfully opened dynamic library libcublas.so.10\n",
      "2022-05-28 19:20:33.642613: I tensorflow/stream_executor/platform/default/dso_loader.cc:49] Successfully opened dynamic library libcublasLt.so.10\n",
      "2022-05-28 19:20:33.643693: I tensorflow/stream_executor/platform/default/dso_loader.cc:49] Successfully opened dynamic library libcufft.so.10\n",
      "2022-05-28 19:20:33.643902: I tensorflow/stream_executor/platform/default/dso_loader.cc:49] Successfully opened dynamic library libcurand.so.10\n",
      "2022-05-28 19:20:33.645023: I tensorflow/stream_executor/platform/default/dso_loader.cc:49] Successfully opened dynamic library libcusolver.so.10\n",
      "2022-05-28 19:20:33.645645: I tensorflow/stream_executor/platform/default/dso_loader.cc:49] Successfully opened dynamic library libcusparse.so.10\n",
      "2022-05-28 19:20:33.647966: I tensorflow/stream_executor/platform/default/dso_loader.cc:49] Successfully opened dynamic library libcudnn.so.7\n",
      "2022-05-28 19:20:33.648060: I tensorflow/stream_executor/cuda/cuda_gpu_executor.cc:941] successful NUMA node read from SysFS had negative value (-1), but there must be at least one NUMA node, so returning NUMA node zero\n",
      "2022-05-28 19:20:33.648177: I tensorflow/stream_executor/cuda/cuda_gpu_executor.cc:941] successful NUMA node read from SysFS had negative value (-1), but there must be at least one NUMA node, so returning NUMA node zero\n",
      "2022-05-28 19:20:33.648233: I tensorflow/core/common_runtime/gpu/gpu_device.cc:1862] Adding visible gpu devices: 0\n",
      "2022-05-28 19:20:33.648511: I tensorflow/core/platform/cpu_feature_guard.cc:142] This TensorFlow binary is optimized with oneAPI Deep Neural Network Library (oneDNN) to use the following CPU instructions in performance-critical operations:  SSE4.1 SSE4.2 AVX AVX2 FMA\n",
      "To enable them in other operations, rebuild TensorFlow with the appropriate compiler flags.\n",
      "2022-05-28 19:20:33.648861: I tensorflow/compiler/jit/xla_gpu_device.cc:99] Not creating XLA devices, tf_xla_enable_xla_devices not set\n",
      "2022-05-28 19:20:33.648925: I tensorflow/stream_executor/cuda/cuda_gpu_executor.cc:941] successful NUMA node read from SysFS had negative value (-1), but there must be at least one NUMA node, so returning NUMA node zero\n",
      "2022-05-28 19:20:33.648993: I tensorflow/core/common_runtime/gpu/gpu_device.cc:1720] Found device 0 with properties: \n",
      "pciBusID: 0000:01:00.0 name: NVIDIA GeForce RTX 3080 Ti computeCapability: 8.6\n",
      "coreClock: 1.71GHz coreCount: 80 deviceMemorySize: 11.77GiB deviceMemoryBandwidth: 849.46GiB/s\n",
      "2022-05-28 19:20:33.649011: I tensorflow/stream_executor/platform/default/dso_loader.cc:49] Successfully opened dynamic library libcudart.so.10.1\n",
      "2022-05-28 19:20:33.649026: I tensorflow/stream_executor/platform/default/dso_loader.cc:49] Successfully opened dynamic library libcublas.so.10\n",
      "2022-05-28 19:20:33.649037: I tensorflow/stream_executor/platform/default/dso_loader.cc:49] Successfully opened dynamic library libcublasLt.so.10\n",
      "2022-05-28 19:20:33.649048: I tensorflow/stream_executor/platform/default/dso_loader.cc:49] Successfully opened dynamic library libcufft.so.10\n",
      "2022-05-28 19:20:33.649058: I tensorflow/stream_executor/platform/default/dso_loader.cc:49] Successfully opened dynamic library libcurand.so.10\n",
      "2022-05-28 19:20:33.649069: I tensorflow/stream_executor/platform/default/dso_loader.cc:49] Successfully opened dynamic library libcusolver.so.10\n",
      "2022-05-28 19:20:33.649080: I tensorflow/stream_executor/platform/default/dso_loader.cc:49] Successfully opened dynamic library libcusparse.so.10\n",
      "2022-05-28 19:20:33.649091: I tensorflow/stream_executor/platform/default/dso_loader.cc:49] Successfully opened dynamic library libcudnn.so.7\n",
      "2022-05-28 19:20:33.649126: I tensorflow/stream_executor/cuda/cuda_gpu_executor.cc:941] successful NUMA node read from SysFS had negative value (-1), but there must be at least one NUMA node, so returning NUMA node zero\n",
      "2022-05-28 19:20:33.649209: I tensorflow/stream_executor/cuda/cuda_gpu_executor.cc:941] successful NUMA node read from SysFS had negative value (-1), but there must be at least one NUMA node, so returning NUMA node zero\n",
      "2022-05-28 19:20:33.649264: I tensorflow/core/common_runtime/gpu/gpu_device.cc:1862] Adding visible gpu devices: 0\n",
      "2022-05-28 19:20:33.649282: I tensorflow/stream_executor/platform/default/dso_loader.cc:49] Successfully opened dynamic library libcudart.so.10.1\n",
      "2022-05-28 19:20:34.408764: I tensorflow/core/common_runtime/gpu/gpu_device.cc:1261] Device interconnect StreamExecutor with strength 1 edge matrix:\n",
      "2022-05-28 19:20:34.408803: I tensorflow/core/common_runtime/gpu/gpu_device.cc:1267]      0 \n",
      "2022-05-28 19:20:34.408807: I tensorflow/core/common_runtime/gpu/gpu_device.cc:1280] 0:   N \n",
      "2022-05-28 19:20:34.408999: I tensorflow/stream_executor/cuda/cuda_gpu_executor.cc:941] successful NUMA node read from SysFS had negative value (-1), but there must be at least one NUMA node, so returning NUMA node zero\n",
      "2022-05-28 19:20:34.409135: I tensorflow/stream_executor/cuda/cuda_gpu_executor.cc:941] successful NUMA node read from SysFS had negative value (-1), but there must be at least one NUMA node, so returning NUMA node zero\n",
      "2022-05-28 19:20:34.409216: I tensorflow/stream_executor/cuda/cuda_gpu_executor.cc:941] successful NUMA node read from SysFS had negative value (-1), but there must be at least one NUMA node, so returning NUMA node zero\n",
      "2022-05-28 19:20:34.409280: I tensorflow/core/common_runtime/gpu/gpu_device.cc:1406] Created TensorFlow device (/job:localhost/replica:0/task:0/device:GPU:0 with 10720 MB memory) -> physical GPU (device: 0, name: NVIDIA GeForce RTX 3080 Ti, pci bus id: 0000:01:00.0, compute capability: 8.6)\n"
     ]
    },
    {
     "name": "stdout",
     "output_type": "stream",
     "text": [
      "Epoch 1/10\n",
      "WARNING:tensorflow:Model was constructed with shape (None, 186, 5) for input KerasTensor(type_spec=TensorSpec(shape=(None, 186, 5), dtype=tf.float32, name='lstm_input'), name='lstm_input', description=\"created by layer 'lstm_input'\"), but it was called on an input with incompatible shape (None, 1, 5).\n"
     ]
    },
    {
     "name": "stderr",
     "output_type": "stream",
     "text": [
      "2022-05-28 19:20:34.621916: I tensorflow/compiler/mlir/mlir_graph_optimization_pass.cc:116] None of the MLIR optimization passes are enabled (registered 2)\n",
      "2022-05-28 19:20:34.641708: I tensorflow/core/platform/profile_utils/cpu_utils.cc:112] CPU Frequency: 2899885000 Hz\n"
     ]
    },
    {
     "name": "stdout",
     "output_type": "stream",
     "text": [
      "WARNING:tensorflow:Model was constructed with shape (None, 186, 5) for input KerasTensor(type_spec=TensorSpec(shape=(None, 186, 5), dtype=tf.float32, name='lstm_input'), name='lstm_input', description=\"created by layer 'lstm_input'\"), but it was called on an input with incompatible shape (None, 1, 5).\n",
      " 1/38 [..............................] - ETA: 27s - loss: 0.4474 - accuracy: 0.0000e+00"
     ]
    },
    {
     "name": "stderr",
     "output_type": "stream",
     "text": [
      "2022-05-28 19:20:35.195715: I tensorflow/stream_executor/platform/default/dso_loader.cc:49] Successfully opened dynamic library libcublas.so.10\n"
     ]
    },
    {
     "name": "stdout",
     "output_type": "stream",
     "text": [
      "32/38 [========================>.....] - ETA: 0s - loss: 0.3556 - accuracy: 0.0485   WARNING:tensorflow:Model was constructed with shape (None, 186, 5) for input KerasTensor(type_spec=TensorSpec(shape=(None, 186, 5), dtype=tf.float32, name='lstm_input'), name='lstm_input', description=\"created by layer 'lstm_input'\"), but it was called on an input with incompatible shape (None, 1, 5).\n",
      "38/38 [==============================] - 1s 12ms/step - loss: 0.3507 - accuracy: 0.0520 - val_loss: 0.2030 - val_accuracy: 0.0426\n",
      "\n",
      "Epoch 00001: val_accuracy improved from -inf to 0.04255, saving model to ../models/0_lstm_btc_trend.hdf5\n",
      "Epoch 2/10\n",
      "38/38 [==============================] - 0s 5ms/step - loss: 0.2424 - accuracy: 0.0618 - val_loss: 0.1458 - val_accuracy: 0.0426\n",
      "\n",
      "Epoch 00002: val_accuracy did not improve from 0.04255\n",
      "Epoch 3/10\n",
      "38/38 [==============================] - 0s 5ms/step - loss: 0.1740 - accuracy: 0.0826 - val_loss: 0.1021 - val_accuracy: 0.0426\n",
      "\n",
      "Epoch 00003: val_accuracy did not improve from 0.04255\n",
      "Epoch 4/10\n",
      "38/38 [==============================] - 0s 5ms/step - loss: 0.1123 - accuracy: 0.0839 - val_loss: 0.0714 - val_accuracy: 0.0426\n",
      "\n",
      "Epoch 00004: val_accuracy did not improve from 0.04255\n",
      "Epoch 5/10\n",
      "38/38 [==============================] - 0s 4ms/step - loss: 0.0893 - accuracy: 0.0848 - val_loss: 0.0538 - val_accuracy: 0.0426\n",
      "\n",
      "Epoch 00005: val_accuracy did not improve from 0.04255\n",
      "Epoch 6/10\n",
      "38/38 [==============================] - 0s 4ms/step - loss: 0.0652 - accuracy: 0.0710 - val_loss: 0.0468 - val_accuracy: 0.0426\n",
      "\n",
      "Epoch 00006: val_accuracy did not improve from 0.04255\n",
      "Epoch 7/10\n",
      "38/38 [==============================] - 0s 4ms/step - loss: 0.0706 - accuracy: 0.0582 - val_loss: 0.0430 - val_accuracy: 0.0426\n",
      "\n",
      "Epoch 00007: val_accuracy did not improve from 0.04255\n",
      "Epoch 8/10\n",
      "38/38 [==============================] - 0s 5ms/step - loss: 0.0576 - accuracy: 0.0413 - val_loss: 0.0420 - val_accuracy: 0.0426\n",
      "\n",
      "Epoch 00008: val_accuracy did not improve from 0.04255\n",
      "Epoch 9/10\n",
      "38/38 [==============================] - 0s 5ms/step - loss: 0.0698 - accuracy: 0.0434 - val_loss: 0.0416 - val_accuracy: 0.0426\n",
      "\n",
      "Epoch 00009: val_accuracy did not improve from 0.04255\n",
      "Epoch 10/10\n",
      "38/38 [==============================] - 0s 4ms/step - loss: 0.0644 - accuracy: 0.0199 - val_loss: 0.0416 - val_accuracy: 0.0426\n",
      "\n",
      "Epoch 00010: val_accuracy did not improve from 0.04255\n"
     ]
    }
   ],
   "source": [
    "from keras.models import Sequential\n",
    "from keras import layers\n",
    "from keras.optimizers import RMSprop,Adam\n",
    "from keras.preprocessing.text import Tokenizer\n",
    "from keras.preprocessing.sequence import pad_sequences\n",
    "from keras import regularizers\n",
    "from keras import backend as K\n",
    "from keras.callbacks import ModelCheckpoint\n",
    "\n",
    "model = Sequential()\n",
    "\n",
    "model.add(layers.LSTM(4, activation='relu', input_shape=(186, 5)))\n",
    "model.add(layers.Dense(1))\n",
    "model.compile(optimizer='adam', loss='mse', metrics=['accuracy'])\n",
    "\n",
    "# Implementing model checkpoins to save the best metric and do not lose it on training.\n",
    "checkpoint1 = ModelCheckpoint(\"../models/0_lstm_btc_trend.hdf5\", monitor='val_accuracy', verbose=1, save_best_only=True, mode='auto', save_weights_only=False)\n",
    "\n",
    "batch_size=5\n",
    "history = model.fit(x_train, y_train, epochs=10, validation_data=(x_test, y_test), callbacks=[checkpoint1], batch_size=batch_size)"
   ]
  },
  {
   "cell_type": "code",
   "execution_count": 10,
   "id": "087f1d5e-4d51-4502-bfed-f4b1c9680a66",
   "metadata": {},
   "outputs": [
    {
     "name": "stdout",
     "output_type": "stream",
     "text": [
      "WARNING:tensorflow:Layer lstm will not use cuDNN kernel since it doesn't meet the cuDNN kernel criteria. It will use generic GPU kernel as fallback when running on GPU\n",
      "WARNING:tensorflow:Model was constructed with shape (None, 186, 5) for input KerasTensor(type_spec=TensorSpec(shape=(None, 186, 5), dtype=tf.float32, name='lstm_input'), name='lstm_input', description=\"created by layer 'lstm_input'\"), but it was called on an input with incompatible shape (None, 1, 5).\n",
      "2/2 - 0s - loss: 0.2030 - accuracy: 0.0426\n",
      "Model accuracy:  0.042553190141916275\n"
     ]
    }
   ],
   "source": [
    "# Load the best model obtained during training\n",
    "model = keras.models.load_model(\"../models/0_lstm_btc_trend.hdf5\")\n",
    "\n",
    "test_loss, test_acc = model.evaluate(x_test, y_test, verbose=2)\n",
    "\n",
    "print('Model accuracy: ',test_acc)"
   ]
  },
  {
   "cell_type": "code",
   "execution_count": 11,
   "id": "d9c1fda4-084e-438e-b6e2-bc261a59ca74",
   "metadata": {},
   "outputs": [
    {
     "name": "stdout",
     "output_type": "stream",
     "text": [
      "WARNING:tensorflow:Model was constructed with shape (None, 186, 5) for input KerasTensor(type_spec=TensorSpec(shape=(None, 186, 5), dtype=tf.float32, name='lstm_input'), name='lstm_input', description=\"created by layer 'lstm_input'\"), but it was called on an input with incompatible shape (None, 1, 5).\n"
     ]
    }
   ],
   "source": [
    "predictions = model.predict(x_test)"
   ]
  },
  {
   "cell_type": "code",
   "execution_count": 12,
   "id": "4647394c-1d9a-4d98-8330-5b574c529726",
   "metadata": {},
   "outputs": [
    {
     "data": {
      "image/png": "[encoded data removed]",
      "text/plain": [
       "<Figure size 432x288 with 1 Axes>"
      ]
     },
     "metadata": {
      "needs_background": "light"
     },
     "output_type": "display_data"
    },
    {
     "data": {
      "image/png": "[encoded data removed]",
      "text/plain": [
       "<Figure size 432x288 with 1 Axes>"
      ]
     },
     "metadata": {
      "needs_background": "light"
     },
     "output_type": "display_data"
    }
   ],
   "source": [
    "import matplotlib.pyplot as plt\n",
    "\n",
    "plt.plot(history.history['accuracy'])\n",
    "plt.plot(history.history['val_accuracy'])\n",
    "\n",
    "plt.title('model accuracy')\n",
    "plt.ylabel('accuracy')\n",
    "plt.xlabel('epoch')\n",
    "plt.legend(['train','test'], loc='upper left')\n",
    "plt.show()\n",
    "\n",
    "plt.plot(history.history['loss'])\n",
    "plt.plot(history.history['val_loss'])\n",
    "\n",
    "plt.title('model loss')\n",
    "plt.ylabel('loss')\n",
    "plt.xlabel('epoch')\n",
    "plt.legend(['train','test'], loc='upper left')\n",
    "plt.show()"
   ]
  },
  {
   "cell_type": "code",
   "execution_count": null,
   "id": "4ced337e-2654-40cc-9582-80cd4356e5c5",
   "metadata": {},
   "outputs": [],
   "source": []
  }
 ],
 "metadata": {
  "kernelspec": {
   "display_name": "tf_gpu",
   "language": "python",
   "name": "tf_gpu"
  },
  "language_info": {
   "codemirror_mode": {
    "name": "ipython",
    "version": 3
   },
   "file_extension": ".py",
   "mimetype": "text/x-python",
   "name": "python",
   "nbconvert_exporter": "python",
   "pygments_lexer": "ipython3",
   "version": "3.9.12"
  }
 },
 "nbformat": 4,
 "nbformat_minor": 5
}
