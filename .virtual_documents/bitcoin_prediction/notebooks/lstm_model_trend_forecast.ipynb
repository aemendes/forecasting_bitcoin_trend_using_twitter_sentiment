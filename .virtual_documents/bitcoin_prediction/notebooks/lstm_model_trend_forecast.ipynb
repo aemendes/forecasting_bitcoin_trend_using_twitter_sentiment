import pandas as pd
import numpy as np
import tensorflow as tf
import keras

import warnings
warnings.filterwarnings("ignore")


dataset = pd.read_csv("../data/historical_btc_trend_dataset.csv")

print(dataset.head(5))


dataset = dataset.dropna(axis=0, thresh=7)


from sklearn.model_selection import train_test_split

x_train, x_test, y_train, y_test = train_test_split(
    dataset.drop(columns=["Date", "trend"], axis=1), 
    dataset.drop(columns=["Date", "Negative", "Neutral", "Positive", "Open", "Volume"], axis=1),
    test_size=0.20,
    shuffle=False)


x_train


from sklearn.preprocessing import MinMaxScaler

scaler = MinMaxScaler()

x_train = scaler.fit_transform(x_train)
x_test = scaler.fit_transform(x_test)
y_train = scaler.fit_transform(y_train)
y_test = scaler.fit_transform(y_test)


x_train= np.reshape(x_train,(x_train.shape[0], 1, x_train.shape[1]))
x_test= np.reshape(x_test,(x_test.shape[0], 1, x_test.shape[1]))
y_train= np.reshape(y_train,(y_train.shape[0], 1, y_train.shape[1]))
y_test= np.reshape(y_test,(y_test.shape[0], 1, y_test.shape[1]))


y_train.shape


from keras.models import Sequential
from keras import layers
from keras.optimizers import RMSprop,Adam
from keras.preprocessing.text import Tokenizer
from keras.preprocessing.sequence import pad_sequences
from keras import regularizers
from keras import backend as K
from keras.callbacks import ModelCheckpoint

model = Sequential()

model.add(layers.LSTM(4, activation='relu', input_shape=(186, 5)))
model.add(layers.Dense(1))
model.compile(optimizer='adam', loss='mse', metrics=['accuracy'])

# Implementing model checkpoins to save the best metric and do not lose it on training.
checkpoint1 = ModelCheckpoint("../models/0_lstm_btc_trend.hdf5", monitor='val_accuracy', verbose=1, save_best_only=True, mode='auto', save_weights_only=False)

batch_size=5
history = model.fit(x_train, y_train, epochs=10, validation_data=(x_test, y_test), callbacks=[checkpoint1], batch_size=batch_size)


# Load the best model obtained during training
model = keras.models.load_model("../models/0_lstm_btc_trend.hdf5")

test_loss, test_acc = model.evaluate(x_test, y_test, verbose=2)

print('Model accuracy: ',test_acc)


predictions = model.predict(x_test)


import matplotlib.pyplot as plt

plt.plot(history.history['accuracy'])
plt.plot(history.history['val_accuracy'])

plt.title('model accuracy')
plt.ylabel('accuracy')
plt.xlabel('epoch')
plt.legend(['train','test'], loc='upper left')
plt.show()

plt.plot(history.history['loss'])
plt.plot(history.history['val_loss'])

plt.title('model loss')
plt.ylabel('loss')
plt.xlabel('epoch')
plt.legend(['train','test'], loc='upper left')
plt.show()



